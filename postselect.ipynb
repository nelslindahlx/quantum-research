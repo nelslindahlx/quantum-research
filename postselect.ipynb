{
  "cells": [
    {
      "cell_type": "markdown",
      "metadata": {
        "id": "view-in-github",
        "colab_type": "text"
      },
      "source": [
        "<a href=\"https://colab.research.google.com/github/nelslindahlx/quantum-research/blob/main/postselect.ipynb\" target=\"_parent\"><img src=\"https://colab.research.google.com/assets/colab-badge.svg\" alt=\"Open In Colab\"/></a>"
      ]
    },
    {
      "cell_type": "markdown",
      "metadata": {
        "id": "oetgYs6bBDCl"
      },
      "source": [
        "# Postselection: exit and panic\n",
        "\n",
        "**Download this notebook - {nb-download}`postselect.ipynb`**\n",
        "\n",
        "\n",
        "In this example we will look at two ways of ending a Guppy program early:\n",
        "\n",
        "1. `exit` will end the current shot and carry on with subsequent ones. We will use this to\n",
        "   implement postselection.\n",
        "2. `panic` is used to signal some unexpected error and as such it will end the shot and\n",
        "   not run any subsequent ones."
      ]
    },
    {
      "cell_type": "code",
      "source": [
        "pip install guppylang"
      ],
      "metadata": {
        "colab": {
          "base_uri": "https://localhost:8080/",
          "height": 1000
        },
        "id": "XbBEyMqRBO9W",
        "outputId": "4a7ccab3-6f6a-4b72-83b8-4b476368a72b"
      },
      "execution_count": 4,
      "outputs": [
        {
          "output_type": "stream",
          "name": "stdout",
          "text": [
            "Collecting guppylang\n",
            "  Downloading guppylang-0.21.3-py3-none-any.whl.metadata (15 kB)\n",
            "Collecting guppylang-internals~=0.23.0 (from guppylang)\n",
            "  Downloading guppylang_internals-0.23.0-py3-none-any.whl.metadata (14 kB)\n",
            "Requirement already satisfied: numpy~=2.0 in /usr/local/lib/python3.12/dist-packages (from guppylang) (2.0.2)\n",
            "Collecting selene-sim~=0.2.0 (from guppylang)\n",
            "  Downloading selene_sim-0.2.4-py3-none-manylinux_2_28_x86_64.whl.metadata (6.0 kB)\n",
            "Collecting hugr~=0.13.1 (from guppylang-internals~=0.23.0->guppylang)\n",
            "  Downloading hugr-0.13.1-cp310-abi3-manylinux_2_17_x86_64.manylinux2014_x86_64.whl.metadata (3.0 kB)\n",
            "Collecting tket-exts~=0.10.0 (from guppylang-internals~=0.23.0->guppylang)\n",
            "  Downloading tket_exts-0.10.1-py3-none-any.whl.metadata (15 kB)\n",
            "Requirement already satisfied: typing-extensions<5,>=4.9.0 in /usr/local/lib/python3.12/dist-packages (from guppylang-internals~=0.23.0->guppylang) (4.15.0)\n",
            "Collecting lief>=0.16.5 (from selene-sim~=0.2.0->guppylang)\n",
            "  Downloading lief-0.16.6-cp312-cp312-manylinux_2_28_x86_64.whl.metadata (2.4 kB)\n",
            "Collecting numpy~=2.0 (from guppylang)\n",
            "  Downloading numpy-2.3.2-cp312-cp312-manylinux_2_27_x86_64.manylinux_2_28_x86_64.whl.metadata (62 kB)\n",
            "\u001b[2K     \u001b[90m━━━━━━━━━━━━━━━━━━━━━━━━━━━━━━━━━━━━━━━━\u001b[0m \u001b[32m62.1/62.1 kB\u001b[0m \u001b[31m3.2 MB/s\u001b[0m eta \u001b[36m0:00:00\u001b[0m\n",
            "\u001b[?25hCollecting pydot>=4.0.0 (from selene-sim~=0.2.0->guppylang)\n",
            "  Downloading pydot-4.0.1-py3-none-any.whl.metadata (11 kB)\n",
            "Requirement already satisfied: pyyaml>=6.0.2 in /usr/local/lib/python3.12/dist-packages (from selene-sim~=0.2.0->guppylang) (6.0.2)\n",
            "Collecting selene-core~=0.2.1 (from selene-sim~=0.2.0->guppylang)\n",
            "  Downloading selene_core-0.2.1-py3-none-any.whl.metadata (1.7 kB)\n",
            "Collecting selene-hugr-qis-compiler~=0.2.1 (from selene-sim~=0.2.0->guppylang)\n",
            "  Downloading selene_hugr_qis_compiler-0.2.4-cp310-abi3-manylinux_2_28_x86_64.whl.metadata (2.2 kB)\n",
            "Requirement already satisfied: tqdm>=4.66 in /usr/local/lib/python3.12/dist-packages (from selene-sim~=0.2.0->guppylang) (4.67.1)\n",
            "Collecting ziglang~=0.13 (from selene-sim~=0.2.0->guppylang)\n",
            "  Downloading ziglang-0.15.1-py3-none-manylinux_2_12_x86_64.manylinux2010_x86_64.musllinux_1_1_x86_64.whl.metadata (3.2 kB)\n",
            "Requirement already satisfied: graphviz>=0.20.3 in /usr/local/lib/python3.12/dist-packages (from hugr~=0.13.1->guppylang-internals~=0.23.0->guppylang) (0.21)\n",
            "Requirement already satisfied: pydantic<2.12,>=2.8 in /usr/local/lib/python3.12/dist-packages (from hugr~=0.13.1->guppylang-internals~=0.23.0->guppylang) (2.11.7)\n",
            "Collecting pydantic-extra-types>=2.9.0 (from hugr~=0.13.1->guppylang-internals~=0.23.0->guppylang)\n",
            "  Downloading pydantic_extra_types-2.10.5-py3-none-any.whl.metadata (3.9 kB)\n",
            "Collecting semver>=3.0.2 (from hugr~=0.13.1->guppylang-internals~=0.23.0->guppylang)\n",
            "  Downloading semver-3.0.4-py3-none-any.whl.metadata (6.8 kB)\n",
            "Collecting pyzstd<0.18.0,>=0.16.2 (from hugr~=0.13.1->guppylang-internals~=0.23.0->guppylang)\n",
            "  Downloading pyzstd-0.17.0-cp312-cp312-manylinux_2_17_x86_64.manylinux2014_x86_64.whl.metadata (2.5 kB)\n",
            "Requirement already satisfied: pyparsing>=3.1.0 in /usr/local/lib/python3.12/dist-packages (from pydot>=4.0.0->selene-sim~=0.2.0->guppylang) (3.2.3)\n",
            "Requirement already satisfied: networkx<4,>=2.6 in /usr/local/lib/python3.12/dist-packages (from selene-core~=0.2.1->selene-sim~=0.2.0->guppylang) (3.5)\n",
            "Requirement already satisfied: annotated-types>=0.6.0 in /usr/local/lib/python3.12/dist-packages (from pydantic<2.12,>=2.8->hugr~=0.13.1->guppylang-internals~=0.23.0->guppylang) (0.7.0)\n",
            "Requirement already satisfied: pydantic-core==2.33.2 in /usr/local/lib/python3.12/dist-packages (from pydantic<2.12,>=2.8->hugr~=0.13.1->guppylang-internals~=0.23.0->guppylang) (2.33.2)\n",
            "Requirement already satisfied: typing-inspection>=0.4.0 in /usr/local/lib/python3.12/dist-packages (from pydantic<2.12,>=2.8->hugr~=0.13.1->guppylang-internals~=0.23.0->guppylang) (0.4.1)\n",
            "Downloading guppylang-0.21.3-py3-none-any.whl (54 kB)\n",
            "\u001b[2K   \u001b[90m━━━━━━━━━━━━━━━━━━━━━━━━━━━━━━━━━━━━━━━━\u001b[0m \u001b[32m54.1/54.1 kB\u001b[0m \u001b[31m5.1 MB/s\u001b[0m eta \u001b[36m0:00:00\u001b[0m\n",
            "\u001b[?25hDownloading guppylang_internals-0.23.0-py3-none-any.whl (224 kB)\n",
            "\u001b[2K   \u001b[90m━━━━━━━━━━━━━━━━━━━━━━━━━━━━━━━━━━━━━━━━\u001b[0m \u001b[32m224.0/224.0 kB\u001b[0m \u001b[31m13.0 MB/s\u001b[0m eta \u001b[36m0:00:00\u001b[0m\n",
            "\u001b[?25hDownloading selene_sim-0.2.4-py3-none-manylinux_2_28_x86_64.whl (4.4 MB)\n",
            "\u001b[2K   \u001b[90m━━━━━━━━━━━━━━━━━━━━━━━━━━━━━━━━━━━━━━━━\u001b[0m \u001b[32m4.4/4.4 MB\u001b[0m \u001b[31m69.8 MB/s\u001b[0m eta \u001b[36m0:00:00\u001b[0m\n",
            "\u001b[?25hDownloading numpy-2.3.2-cp312-cp312-manylinux_2_27_x86_64.manylinux_2_28_x86_64.whl (16.6 MB)\n",
            "\u001b[2K   \u001b[90m━━━━━━━━━━━━━━━━━━━━━━━━━━━━━━━━━━━━━━━━\u001b[0m \u001b[32m16.6/16.6 MB\u001b[0m \u001b[31m90.2 MB/s\u001b[0m eta \u001b[36m0:00:00\u001b[0m\n",
            "\u001b[?25hDownloading hugr-0.13.1-cp310-abi3-manylinux_2_17_x86_64.manylinux2014_x86_64.whl (612 kB)\n",
            "\u001b[2K   \u001b[90m━━━━━━━━━━━━━━━━━━━━━━━━━━━━━━━━━━━━━━━━\u001b[0m \u001b[32m612.7/612.7 kB\u001b[0m \u001b[31m50.0 MB/s\u001b[0m eta \u001b[36m0:00:00\u001b[0m\n",
            "\u001b[?25hDownloading lief-0.16.6-cp312-cp312-manylinux_2_28_x86_64.whl (3.0 MB)\n",
            "\u001b[2K   \u001b[90m━━━━━━━━━━━━━━━━━━━━━━━━━━━━━━━━━━━━━━━━\u001b[0m \u001b[32m3.0/3.0 MB\u001b[0m \u001b[31m91.7 MB/s\u001b[0m eta \u001b[36m0:00:00\u001b[0m\n",
            "\u001b[?25hDownloading pydot-4.0.1-py3-none-any.whl (37 kB)\n",
            "Downloading selene_core-0.2.1-py3-none-any.whl (36 kB)\n",
            "Downloading selene_hugr_qis_compiler-0.2.4-cp310-abi3-manylinux_2_28_x86_64.whl (34.2 MB)\n",
            "\u001b[2K   \u001b[90m━━━━━━━━━━━━━━━━━━━━━━━━━━━━━━━━━━━━━━━━\u001b[0m \u001b[32m34.2/34.2 MB\u001b[0m \u001b[31m15.6 MB/s\u001b[0m eta \u001b[36m0:00:00\u001b[0m\n",
            "\u001b[?25hDownloading tket_exts-0.10.1-py3-none-any.whl (18 kB)\n",
            "Downloading ziglang-0.15.1-py3-none-manylinux_2_12_x86_64.manylinux2010_x86_64.musllinux_1_1_x86_64.whl (93.5 MB)\n",
            "\u001b[2K   \u001b[90m━━━━━━━━━━━━━━━━━━━━━━━━━━━━━━━━━━━━━━━━\u001b[0m \u001b[32m93.5/93.5 MB\u001b[0m \u001b[31m8.5 MB/s\u001b[0m eta \u001b[36m0:00:00\u001b[0m\n",
            "\u001b[?25hDownloading pydantic_extra_types-2.10.5-py3-none-any.whl (38 kB)\n",
            "Downloading pyzstd-0.17.0-cp312-cp312-manylinux_2_17_x86_64.manylinux2014_x86_64.whl (413 kB)\n",
            "\u001b[2K   \u001b[90m━━━━━━━━━━━━━━━━━━━━━━━━━━━━━━━━━━━━━━━━\u001b[0m \u001b[32m413.6/413.6 kB\u001b[0m \u001b[31m31.4 MB/s\u001b[0m eta \u001b[36m0:00:00\u001b[0m\n",
            "\u001b[?25hDownloading semver-3.0.4-py3-none-any.whl (17 kB)\n",
            "Installing collected packages: ziglang, semver, selene-hugr-qis-compiler, pyzstd, pydot, numpy, lief, selene-core, pydantic-extra-types, hugr, tket-exts, selene-sim, guppylang-internals, guppylang\n",
            "  Attempting uninstall: pydot\n",
            "    Found existing installation: pydot 3.0.4\n",
            "    Uninstalling pydot-3.0.4:\n",
            "      Successfully uninstalled pydot-3.0.4\n",
            "  Attempting uninstall: numpy\n",
            "    Found existing installation: numpy 2.0.2\n",
            "    Uninstalling numpy-2.0.2:\n",
            "      Successfully uninstalled numpy-2.0.2\n",
            "\u001b[31mERROR: pip's dependency resolver does not currently take into account all the packages that are installed. This behaviour is the source of the following dependency conflicts.\n",
            "opencv-contrib-python 4.12.0.88 requires numpy<2.3.0,>=2; python_version >= \"3.9\", but you have numpy 2.3.2 which is incompatible.\n",
            "opencv-python-headless 4.12.0.88 requires numpy<2.3.0,>=2; python_version >= \"3.9\", but you have numpy 2.3.2 which is incompatible.\n",
            "numba 0.60.0 requires numpy<2.1,>=1.22, but you have numpy 2.3.2 which is incompatible.\n",
            "opencv-python 4.12.0.88 requires numpy<2.3.0,>=2; python_version >= \"3.9\", but you have numpy 2.3.2 which is incompatible.\n",
            "cupy-cuda12x 13.3.0 requires numpy<2.3,>=1.22, but you have numpy 2.3.2 which is incompatible.\n",
            "tensorflow 2.19.0 requires numpy<2.2.0,>=1.26.0, but you have numpy 2.3.2 which is incompatible.\u001b[0m\u001b[31m\n",
            "\u001b[0mSuccessfully installed guppylang-0.21.3 guppylang-internals-0.23.0 hugr-0.13.1 lief-0.16.6 numpy-2.3.2 pydantic-extra-types-2.10.5 pydot-4.0.1 pyzstd-0.17.0 selene-core-0.2.1 selene-hugr-qis-compiler-0.2.4 selene-sim-0.2.4 semver-3.0.4 tket-exts-0.10.1 ziglang-0.15.1\n"
          ]
        },
        {
          "output_type": "display_data",
          "data": {
            "application/vnd.colab-display-data+json": {
              "pip_warning": {
                "packages": [
                  "numpy"
                ]
              },
              "id": "54c91c5ead304d2bbfeacb104b20f5e7"
            }
          },
          "metadata": {}
        }
      ]
    },
    {
      "cell_type": "code",
      "execution_count": 1,
      "metadata": {
        "colab": {
          "base_uri": "https://localhost:8080/",
          "height": 106
        },
        "id": "ooEkythUBDCm",
        "outputId": "bfffd185-7ebc-4fac-8398-f0d75934913c"
      },
      "outputs": [
        {
          "output_type": "error",
          "ename": "SyntaxError",
          "evalue": "invalid syntax (ipython-input-2143382434.py, line 1)",
          "traceback": [
            "\u001b[0;36m  File \u001b[0;32m\"/tmp/ipython-input-2143382434.py\"\u001b[0;36m, line \u001b[0;32m1\u001b[0m\n\u001b[0;31m    pip install guppylang\u001b[0m\n\u001b[0m        ^\u001b[0m\n\u001b[0;31mSyntaxError\u001b[0m\u001b[0;31m:\u001b[0m invalid syntax\n"
          ]
        }
      ],
      "source": [
        "from typing import Counter\n",
        "\n",
        "from guppylang import guppy\n",
        "from guppylang.std.builtins import result, array, exit, panic\n",
        "from guppylang.std.quantum import measure_array, measure, qubit, h, cx\n",
        "from guppylang.defs import GuppyFunctionDefinition\n",
        "\n",
        "from selene_sim import DepolarizingErrorModel\n",
        "from selene_sim.exceptions import SelenePanicError"
      ]
    },
    {
      "cell_type": "markdown",
      "metadata": {
        "id": "p9k7jxu2BDCm"
      },
      "source": [
        "## Postselection\n",
        "\n",
        "We can use postselection to implement fault tolerant state preparation for the [[7, 1,\n",
        "3]] [Steane code](https://en.wikipedia.org/wiki/Steane_code).\n",
        "\n",
        "Let's first define our \"Steane qubit\" as a struct containing our 7 data qubits, then\n",
        "write a function to prepare an encoded $|0\\rangle$ non-fault tolerantly. We use the\n",
        "preparation circuit from [_Realization of real-time fault-tolerant quantum error correction_](https://arxiv.org/abs/2107.07505).\n"
      ]
    },
    {
      "cell_type": "code",
      "execution_count": null,
      "metadata": {
        "id": "sM4brxkgBDCn"
      },
      "outputs": [],
      "source": [
        "@guppy.struct\n",
        "class SteaneQubit:\n",
        "    data_qs: array[qubit, 7]\n",
        "\n",
        "\n",
        "@guppy\n",
        "def non_ft_zero() -> SteaneQubit:\n",
        "    data_qubits = array(qubit() for _ in range(7))\n",
        "    plus_ids = array(0, 4, 6)\n",
        "    for i in plus_ids:\n",
        "        h(data_qubits[i])\n",
        "\n",
        "    cx_pairs = array((0, 1), (4, 5), (6, 3), (6, 5), (4, 2), (0, 3), (4, 1), (3, 2))\n",
        "    for c, t in cx_pairs:\n",
        "        cx(data_qubits[c], data_qubits[t])\n",
        "    return SteaneQubit(data_qubits)"
      ]
    },
    {
      "cell_type": "markdown",
      "metadata": {
        "id": "fFVp0PLFBDCn"
      },
      "source": [
        "We can now implement fault-tolerant preparation using postselection. We can use an\n",
        "ancilla to check the prepared state, and if we detect an error use `exit` to end the\n",
        "shot with a message about why we exited."
      ]
    },
    {
      "cell_type": "code",
      "execution_count": null,
      "metadata": {
        "id": "uV7ZO-QqBDCn"
      },
      "outputs": [],
      "source": [
        "@guppy\n",
        "def ft_zero() -> SteaneQubit:\n",
        "    q = non_ft_zero()\n",
        "    ancilla = qubit()\n",
        "    flags = array(1, 3, 5)\n",
        "    for f in flags:\n",
        "        cx(q.data_qs[f], ancilla)\n",
        "    if measure(ancilla):\n",
        "        exit(\"Postselected: FT prep failed\", 1)\n",
        "    return q"
      ]
    },
    {
      "cell_type": "markdown",
      "metadata": {
        "id": "9xPIba8QBDCn"
      },
      "source": [
        "Let's define a couple of utility functions - a Guppy function to check the parity of a\n",
        "bit array, and a python function to run our program and report the results.\n",
        "\n",
        "We use a simple depolarizing error model to induce errors in the preparation."
      ]
    },
    {
      "cell_type": "code",
      "execution_count": null,
      "metadata": {
        "id": "5-v-wgjdBDCn"
      },
      "outputs": [],
      "source": [
        "n = guppy.nat_var(\"n\")\n",
        "\n",
        "\n",
        "@guppy\n",
        "def parity_check(data_bits: array[bool, n]) -> bool:\n",
        "    out = False\n",
        "    for i in range(n):\n",
        "        out ^= data_bits[i]\n",
        "    return out\n",
        "\n",
        "\n",
        "error_model = DepolarizingErrorModel(\n",
        "    random_seed=1234,\n",
        "    # single qubit gate error rate\n",
        "    p_1q=1e-3,\n",
        "    # two qubit gate error rate\n",
        "    p_2q=1e-3,\n",
        "    # set state preparation and measurement error rates to 0\n",
        "    p_meas=0,\n",
        "    p_init=0,\n",
        ")\n",
        "\n",
        "\n",
        "def run(main_def: GuppyFunctionDefinition) -> Counter:\n",
        "    res = (\n",
        "        main_def.emulator(n_qubits=8)\n",
        "        .stabilizer_sim()\n",
        "        .with_seed(42)\n",
        "        .with_shots(1000)\n",
        "        .with_error_model(error_model)\n",
        "        .run()\n",
        "    )\n",
        "\n",
        "    return res.collated_counts()"
      ]
    },
    {
      "cell_type": "markdown",
      "metadata": {
        "id": "gYSuUTpZBDCn"
      },
      "source": [
        "We can now define our `main` program and run it. We know that all basis states of the\n",
        "encoded Steane $|0\\rangle$ state have a $0$ parity, so we can use that to verify our preparation."
      ]
    },
    {
      "cell_type": "code",
      "execution_count": null,
      "metadata": {
        "id": "vZrjvqscBDCn",
        "outputId": "4a2d6e4c-8987-4ff0-91d2-1133d946b1c5"
      },
      "outputs": [
        {
          "data": {
            "text/plain": [
              "Counter({(('parity', '0'),): 968,\n",
              "         (('exit: Postselected: FT prep failed', '1'),): 23,\n",
              "         (('parity', '1'),): 9})"
            ]
          },
          "execution_count": 5,
          "metadata": {},
          "output_type": "execute_result"
        }
      ],
      "source": [
        "@guppy\n",
        "def main() -> None:\n",
        "    steane_q = ft_zero()\n",
        "\n",
        "    # Measure the data qubits\n",
        "    data = measure_array(steane_q.data_qs)\n",
        "    result(\"parity\", parity_check(data))\n",
        "\n",
        "\n",
        "run(main)"
      ]
    },
    {
      "cell_type": "markdown",
      "metadata": {
        "id": "Axv7Av7jBDCo"
      },
      "source": [
        "As we can see, the state preparation succeeded in 968 cases out of 1000.\n",
        "In 23 of the unsuccessful cases, an error was detected on the ancillas and was\n",
        "discarded through postselection. In the remaining 9 cases, the state failed\n",
        "in a way that was not detected by postselection but was instead detected by a\n",
        "parity check performed after measuring all of the qubits.\n",
        "\n",
        "Note the result tag in the discarded shot is prefixed with `exit: ` followed\n",
        "by the specified message, and the value of the result entry is the error code\n",
        "(1 in this case)."
      ]
    },
    {
      "cell_type": "markdown",
      "metadata": {
        "id": "Fe-L9Ip9BDCo"
      },
      "source": [
        "## Panic\n",
        "\n",
        "The `panic` function is similar to `exit` but is used for exceptional circumstances -\n",
        "when something unexpected has gone wrong. For example we could define a physical\n",
        "hadamard function that takes an index to act on the data qubit array. If the index is\n",
        "out of bounds, we can panic with a helpful message. This will raise an error during the\n",
        "simulation, and no subsequent shots will be run."
      ]
    },
    {
      "cell_type": "code",
      "execution_count": null,
      "metadata": {
        "tags": [
          "raises-exception"
        ],
        "id": "RiQ3OY6_BDCo",
        "outputId": "c1a4f1e7-303a-4772-cc32-2a8e2e6c2f04"
      },
      "outputs": [
        {
          "ename": "SelenePanicError",
          "evalue": "Panic (#1001): Invalid data index in physical_h",
          "output_type": "error",
          "traceback": [
            "\u001b[31m---------------------------------------------------------------------------\u001b[39m",
            "\u001b[31mSelenePanicError\u001b[39m                          Traceback (most recent call last)",
            "\u001b[36mCell\u001b[39m\u001b[36m \u001b[39m\u001b[32mIn[6]\u001b[39m\u001b[32m, line 18\u001b[39m\n\u001b[32m     15\u001b[39m     data = measure_array(steane_q.data_qs)\n\u001b[32m     16\u001b[39m     result(\u001b[33m\"\u001b[39m\u001b[33mparity\u001b[39m\u001b[33m\"\u001b[39m, parity_check(data))\n\u001b[32m---> \u001b[39m\u001b[32m18\u001b[39m \u001b[43mrun\u001b[49m\u001b[43m(\u001b[49m\u001b[43mmain\u001b[49m\u001b[43m)\u001b[49m\n",
            "\u001b[36mCell\u001b[39m\u001b[36m \u001b[39m\u001b[32mIn[4]\u001b[39m\u001b[32m, line 31\u001b[39m, in \u001b[36mrun\u001b[39m\u001b[34m(main_def)\u001b[39m\n\u001b[32m     24\u001b[39m \u001b[38;5;28;01mdef\u001b[39;00m\u001b[38;5;250m \u001b[39m\u001b[34mrun\u001b[39m(main_def: GuppyFunctionDefinition) -> Counter:\n\u001b[32m     25\u001b[39m     res = (\n\u001b[32m     26\u001b[39m         \u001b[43mmain_def\u001b[49m\u001b[43m.\u001b[49m\u001b[43memulator\u001b[49m\u001b[43m(\u001b[49m\u001b[43mn_qubits\u001b[49m\u001b[43m=\u001b[49m\u001b[32;43m8\u001b[39;49m\u001b[43m)\u001b[49m\n\u001b[32m     27\u001b[39m \u001b[43m        \u001b[49m\u001b[43m.\u001b[49m\u001b[43mstabilizer_sim\u001b[49m\u001b[43m(\u001b[49m\u001b[43m)\u001b[49m\n\u001b[32m     28\u001b[39m \u001b[43m        \u001b[49m\u001b[43m.\u001b[49m\u001b[43mwith_seed\u001b[49m\u001b[43m(\u001b[49m\u001b[32;43m42\u001b[39;49m\u001b[43m)\u001b[49m\n\u001b[32m     29\u001b[39m \u001b[43m        \u001b[49m\u001b[43m.\u001b[49m\u001b[43mwith_shots\u001b[49m\u001b[43m(\u001b[49m\u001b[32;43m1000\u001b[39;49m\u001b[43m)\u001b[49m\n\u001b[32m     30\u001b[39m \u001b[43m        \u001b[49m\u001b[43m.\u001b[49m\u001b[43mwith_error_model\u001b[49m\u001b[43m(\u001b[49m\u001b[43merror_model\u001b[49m\u001b[43m)\u001b[49m\n\u001b[32m---> \u001b[39m\u001b[32m31\u001b[39m \u001b[43m        \u001b[49m\u001b[43m.\u001b[49m\u001b[43mrun\u001b[49m\u001b[43m(\u001b[49m\u001b[43m)\u001b[49m\n\u001b[32m     32\u001b[39m     )\n\u001b[32m     34\u001b[39m     \u001b[38;5;28;01mreturn\u001b[39;00m res.collated_counts()\n",
            "\u001b[36mFile \u001b[39m\u001b[32m/app/docs/.venv/lib/python3.11/site-packages/guppylang/emulator/instance.py:211\u001b[39m, in \u001b[36mEmulatorInstance.run\u001b[39m\u001b[34m(self)\u001b[39m\n\u001b[32m    207\u001b[39m result_stream = \u001b[38;5;28mself\u001b[39m._run_instance()\n\u001b[32m    209\u001b[39m \u001b[38;5;66;03m# TODO progress bar on consuming iterator?\u001b[39;00m\n\u001b[32m--> \u001b[39m\u001b[32m211\u001b[39m \u001b[38;5;28;01mreturn\u001b[39;00m \u001b[43mEmulatorResult\u001b[49m\u001b[43m(\u001b[49m\u001b[43mresult_stream\u001b[49m\u001b[43m)\u001b[49m\n",
            "\u001b[36mFile \u001b[39m\u001b[32m/app/docs/.venv/lib/python3.11/site-packages/guppylang/emulator/result.py:70\u001b[39m, in \u001b[36mEmulatorResult.__init__\u001b[39m\u001b[34m(self, results)\u001b[39m\n\u001b[32m     67\u001b[39m \u001b[38;5;28;01mdef\u001b[39;00m\u001b[38;5;250m \u001b[39m\u001b[34m__init__\u001b[39m(\n\u001b[32m     68\u001b[39m     \u001b[38;5;28mself\u001b[39m, results: Iterable[QsysShot | Iterable[TaggedResult]] | \u001b[38;5;28;01mNone\u001b[39;00m = \u001b[38;5;28;01mNone\u001b[39;00m\n\u001b[32m     69\u001b[39m ):\n\u001b[32m---> \u001b[39m\u001b[32m70\u001b[39m     \u001b[38;5;28;43msuper\u001b[39;49m\u001b[43m(\u001b[49m\u001b[43m)\u001b[49m\u001b[43m.\u001b[49m\u001b[34;43m__init__\u001b[39;49m\u001b[43m(\u001b[49m\u001b[43mresults\u001b[49m\u001b[43m=\u001b[49m\u001b[43mresults\u001b[49m\u001b[43m)\u001b[49m\n",
            "\u001b[36mFile \u001b[39m\u001b[32m/app/docs/.venv/lib/python3.11/site-packages/hugr/qsystem/result.py:156\u001b[39m, in \u001b[36mQsysResult.__init__\u001b[39m\u001b[34m(self, results)\u001b[39m\n\u001b[32m    153\u001b[39m \u001b[38;5;28;01mdef\u001b[39;00m\u001b[38;5;250m \u001b[39m\u001b[34m__init__\u001b[39m(\n\u001b[32m    154\u001b[39m     \u001b[38;5;28mself\u001b[39m, results: Iterable[QsysShot | Iterable[TaggedResult]] | \u001b[38;5;28;01mNone\u001b[39;00m = \u001b[38;5;28;01mNone\u001b[39;00m\n\u001b[32m    155\u001b[39m ):\n\u001b[32m--> \u001b[39m\u001b[32m156\u001b[39m     \u001b[38;5;28mself\u001b[39m.results = \u001b[43m[\u001b[49m\n\u001b[32m    157\u001b[39m \u001b[43m        \u001b[49m\u001b[43mres\u001b[49m\u001b[43m \u001b[49m\u001b[38;5;28;43;01mif\u001b[39;49;00m\u001b[43m \u001b[49m\u001b[38;5;28;43misinstance\u001b[39;49m\u001b[43m(\u001b[49m\u001b[43mres\u001b[49m\u001b[43m,\u001b[49m\u001b[43m \u001b[49m\u001b[43mQsysShot\u001b[49m\u001b[43m)\u001b[49m\u001b[43m \u001b[49m\u001b[38;5;28;43;01melse\u001b[39;49;00m\u001b[43m \u001b[49m\u001b[43mQsysShot\u001b[49m\u001b[43m(\u001b[49m\u001b[43mres\u001b[49m\u001b[43m)\u001b[49m\u001b[43m \u001b[49m\u001b[38;5;28;43;01mfor\u001b[39;49;00m\u001b[43m \u001b[49m\u001b[43mres\u001b[49m\u001b[43m \u001b[49m\u001b[38;5;129;43;01min\u001b[39;49;00m\u001b[43m \u001b[49m\u001b[43mresults\u001b[49m\u001b[43m \u001b[49m\u001b[38;5;129;43;01mor\u001b[39;49;00m\u001b[43m \u001b[49m\u001b[43m[\u001b[49m\u001b[43m]\u001b[49m\n\u001b[32m    158\u001b[39m \u001b[43m    \u001b[49m\u001b[43m]\u001b[49m\n",
            "\u001b[36mFile \u001b[39m\u001b[32m/app/docs/.venv/lib/python3.11/site-packages/hugr/qsystem/result.py:157\u001b[39m, in \u001b[36m<listcomp>\u001b[39m\u001b[34m(.0)\u001b[39m\n\u001b[32m    153\u001b[39m \u001b[38;5;28;01mdef\u001b[39;00m\u001b[38;5;250m \u001b[39m\u001b[34m__init__\u001b[39m(\n\u001b[32m    154\u001b[39m     \u001b[38;5;28mself\u001b[39m, results: Iterable[QsysShot | Iterable[TaggedResult]] | \u001b[38;5;28;01mNone\u001b[39;00m = \u001b[38;5;28;01mNone\u001b[39;00m\n\u001b[32m    155\u001b[39m ):\n\u001b[32m    156\u001b[39m     \u001b[38;5;28mself\u001b[39m.results = [\n\u001b[32m--> \u001b[39m\u001b[32m157\u001b[39m         res \u001b[38;5;28;01mif\u001b[39;00m \u001b[38;5;28misinstance\u001b[39m(res, QsysShot) \u001b[38;5;28;01melse\u001b[39;00m \u001b[43mQsysShot\u001b[49m\u001b[43m(\u001b[49m\u001b[43mres\u001b[49m\u001b[43m)\u001b[49m \u001b[38;5;28;01mfor\u001b[39;00m res \u001b[38;5;129;01min\u001b[39;00m results \u001b[38;5;129;01mor\u001b[39;00m []\n\u001b[32m    158\u001b[39m     ]\n",
            "\u001b[36mFile \u001b[39m\u001b[32m/app/docs/.venv/lib/python3.11/site-packages/hugr/qsystem/result.py:61\u001b[39m, in \u001b[36mQsysShot.__init__\u001b[39m\u001b[34m(self, entries)\u001b[39m\n\u001b[32m     60\u001b[39m \u001b[38;5;28;01mdef\u001b[39;00m\u001b[38;5;250m \u001b[39m\u001b[34m__init__\u001b[39m(\u001b[38;5;28mself\u001b[39m, entries: Iterable[TaggedResult] | \u001b[38;5;28;01mNone\u001b[39;00m = \u001b[38;5;28;01mNone\u001b[39;00m):\n\u001b[32m---> \u001b[39m\u001b[32m61\u001b[39m     \u001b[38;5;28mself\u001b[39m.entries = \u001b[38;5;28mlist\u001b[39m(entries \u001b[38;5;129;01mor\u001b[39;00m [])\n",
            "\u001b[36mFile \u001b[39m\u001b[32m/app/docs/.venv/lib/python3.11/site-packages/selene_sim/result_handling/parse_shot.py:154\u001b[39m, in \u001b[36mparse_shot\u001b[39m\u001b[34m(parser, event_hook, parse_results, stdout_file, stderr_file)\u001b[39m\n\u001b[32m    152\u001b[39m \u001b[38;5;66;03m# pass panic errors to the caller\u001b[39;00m\n\u001b[32m    153\u001b[39m \u001b[38;5;28;01mexcept\u001b[39;00m SelenePanicError \u001b[38;5;28;01mas\u001b[39;00m panic:\n\u001b[32m--> \u001b[39m\u001b[32m154\u001b[39m     \u001b[38;5;28;01mraise\u001b[39;00m panic\n\u001b[32m    155\u001b[39m \u001b[38;5;28;01mexcept\u001b[39;00m SeleneRuntimeError \u001b[38;5;28;01mas\u001b[39;00m error:\n\u001b[32m    156\u001b[39m     error.stdout = stdout_file.read_text()\n",
            "\u001b[36mFile \u001b[39m\u001b[32m/app/docs/.venv/lib/python3.11/site-packages/selene_sim/result_handling/parse_shot.py:139\u001b[39m, in \u001b[36mparse_shot\u001b[39m\u001b[34m(parser, event_hook, parse_results, stdout_file, stderr_file)\u001b[39m\n\u001b[32m    137\u001b[39m \u001b[38;5;28;01mif\u001b[39;00m parse_results:\n\u001b[32m    138\u001b[39m     \u001b[38;5;28;01mif\u001b[39;00m parsed.code >= \u001b[32m1000\u001b[39m:\n\u001b[32m--> \u001b[39m\u001b[32m139\u001b[39m         \u001b[38;5;28;01mraise\u001b[39;00m SelenePanicError(\n\u001b[32m    140\u001b[39m             message=parsed.message,\n\u001b[32m    141\u001b[39m             code=parsed.code,\n\u001b[32m    142\u001b[39m             stdout=stdout_file.read_text(),\n\u001b[32m    143\u001b[39m             stderr=stderr_file.read_text(),\n\u001b[32m    144\u001b[39m         )\n\u001b[32m    145\u001b[39m     \u001b[38;5;28;01melse\u001b[39;00m:\n\u001b[32m    146\u001b[39m         \u001b[38;5;28;01myield\u001b[39;00m (\u001b[33mf\u001b[39m\u001b[33m\"\u001b[39m\u001b[33mexit: \u001b[39m\u001b[38;5;132;01m{\u001b[39;00mparsed.message\u001b[38;5;132;01m}\u001b[39;00m\u001b[33m\"\u001b[39m, parsed.code)\n",
            "\u001b[31mSelenePanicError\u001b[39m: Panic (#1001): Invalid data index in physical_h"
          ]
        }
      ],
      "source": [
        "@guppy\n",
        "def physical_h(q: SteaneQubit, data_idx: int) -> None:\n",
        "    if data_idx >= 7:\n",
        "        panic(\"Invalid data index in physical_h\")\n",
        "    h(q.data_qs[data_idx])\n",
        "\n",
        "\n",
        "@guppy\n",
        "def main() -> None:\n",
        "    steane_q = ft_zero()\n",
        "\n",
        "    # add a physical H gate\n",
        "    physical_h(steane_q, 8)\n",
        "\n",
        "    data = measure_array(steane_q.data_qs)\n",
        "    result(\"parity\", parity_check(data))\n",
        "\n",
        "run(main)\n"
      ]
    }
  ],
  "metadata": {
    "kernelspec": {
      "display_name": "venv",
      "language": "python",
      "name": "python3"
    },
    "language_info": {
      "codemirror_mode": {
        "name": "ipython",
        "version": 3
      },
      "file_extension": ".py",
      "mimetype": "text/x-python",
      "name": "python",
      "nbconvert_exporter": "python",
      "pygments_lexer": "ipython3",
      "version": "3.11.2"
    },
    "colab": {
      "provenance": [],
      "include_colab_link": true
    }
  },
  "nbformat": 4,
  "nbformat_minor": 0
}