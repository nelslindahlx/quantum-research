{
  "nbformat": 4,
  "nbformat_minor": 0,
  "metadata": {
    "colab": {
      "provenance": [],
      "authorship_tag": "ABX9TyPzo+UybRBishDJ+dv2Q0vK",
      "include_colab_link": true
    },
    "kernelspec": {
      "name": "python3",
      "display_name": "Python 3"
    },
    "language_info": {
      "name": "python"
    }
  },
  "cells": [
    {
      "cell_type": "markdown",
      "metadata": {
        "id": "view-in-github",
        "colab_type": "text"
      },
      "source": [
        "<a href=\"https://colab.research.google.com/github/nelslindahlx/quantum-research/blob/main/GuppyLang.ipynb\" target=\"_parent\"><img src=\"https://colab.research.google.com/assets/colab-badge.svg\" alt=\"Open In Colab\"/></a>"
      ]
    },
    {
      "cell_type": "markdown",
      "source": [
        "Check out this [article](https://www.quantinuum.com/blog/guppy-programming-the-next-generation-of-quantum-computers) that announces the new guppylang repo you can pip for local classical computer environment quantum adventure in python.   "
      ],
      "metadata": {
        "id": "AQHD6UZnZ-34"
      }
    },
    {
      "cell_type": "markdown",
      "source": [
        "Your environment won't have this package installed. You need to go ahead and install guppylang"
      ],
      "metadata": {
        "id": "Pl82OzML65nO"
      }
    },
    {
      "cell_type": "code",
      "execution_count": null,
      "metadata": {
        "id": "ewx0CTHw6Yh0"
      },
      "outputs": [],
      "source": [
        "pip install guppylang"
      ]
    },
    {
      "cell_type": "markdown",
      "source": [
        "I had to compelte a runtime restart here to get things going. Go ahead and run the pip again to make sure everything is now satisfied."
      ],
      "metadata": {
        "id": "QFb-moef6_vJ"
      }
    },
    {
      "cell_type": "code",
      "source": [
        "pip install guppylang"
      ],
      "metadata": {
        "id": "D-Kfv8pG7EYA"
      },
      "execution_count": null,
      "outputs": []
    },
    {
      "cell_type": "markdown",
      "source": [
        "Check out this code from the Guppy documentation"
      ],
      "metadata": {
        "id": "0P5ZJqBb7Oa6"
      }
    },
    {
      "cell_type": "code",
      "source": [
        "from guppylang import guppy\n",
        "from guppylang.std.builtins import owned\n",
        "from guppylang.std.quantum import cx, h, measure, qubit, x, z\n",
        "\n",
        "@guppy\n",
        "def teleport(src: qubit @ owned, tgt: qubit) -> None:\n",
        "    \"\"\"Teleports the state in `src` to `tgt`.\"\"\"\n",
        "    # Create ancilla and entangle it with src and tgt\n",
        "    tmp = qubit()\n",
        "    h(tmp)\n",
        "    cx(tmp, tgt)\n",
        "    cx(src, tmp)\n",
        "\n",
        "    # Apply classical corrections\n",
        "    h(src)\n",
        "    if measure(src):\n",
        "        z(tgt)\n",
        "    if measure(tmp):\n",
        "        x(tgt)"
      ],
      "metadata": {
        "id": "RpQ_EYqK7gEo"
      },
      "execution_count": null,
      "outputs": []
    },
    {
      "cell_type": "code",
      "source": [
        "from guppylang.std.builtins import result\n",
        "\n",
        "@guppy\n",
        "def teleport_one_state() -> None:\n",
        "    src = qubit()\n",
        "    tgt = qubit()\n",
        "\n",
        "    # Let's teleport the |1> state\n",
        "    x(src)\n",
        "    teleport(src, tgt)\n",
        "\n",
        "    result(\"teleported\", measure(tgt))"
      ],
      "metadata": {
        "id": "ZtxPA_7H7l1F"
      },
      "execution_count": null,
      "outputs": []
    },
    {
      "cell_type": "code",
      "source": [
        "sim_result = teleport_one_state.emulator(n_qubits=3).stabilizer_sim().with_seed(2).run()\n",
        "list(sim_result.results)"
      ],
      "metadata": {
        "id": "WMXOb1GX7qTl"
      },
      "execution_count": null,
      "outputs": []
    }
  ]
}