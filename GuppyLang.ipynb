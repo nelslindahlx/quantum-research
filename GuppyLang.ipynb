{
  "nbformat": 4,
  "nbformat_minor": 0,
  "metadata": {
    "colab": {
      "provenance": [],
      "authorship_tag": "ABX9TyOmTD7rQ/LS2tgzJ5NGR4Fl",
      "include_colab_link": true
    },
    "kernelspec": {
      "name": "python3",
      "display_name": "Python 3"
    },
    "language_info": {
      "name": "python"
    }
  },
  "cells": [
    {
      "cell_type": "markdown",
      "metadata": {
        "id": "view-in-github",
        "colab_type": "text"
      },
      "source": [
        "<a href=\"https://colab.research.google.com/github/nelslindahlx/quantum-research/blob/main/GuppyLang.ipynb\" target=\"_parent\"><img src=\"https://colab.research.google.com/assets/colab-badge.svg\" alt=\"Open In Colab\"/></a>"
      ]
    },
    {
      "cell_type": "markdown",
      "source": [
        "You need to go ahead and install the Guppy language"
      ],
      "metadata": {
        "id": "Pl82OzML65nO"
      }
    },
    {
      "cell_type": "code",
      "execution_count": 1,
      "metadata": {
        "colab": {
          "base_uri": "https://localhost:8080/",
          "height": 1000
        },
        "id": "ewx0CTHw6Yh0",
        "outputId": "dd66053a-8b07-4032-c8b6-4ca5830a34a0"
      },
      "outputs": [
        {
          "output_type": "stream",
          "name": "stdout",
          "text": [
            "Collecting guppylang\n",
            "  Downloading guppylang-0.21.3-py3-none-any.whl.metadata (15 kB)\n",
            "Collecting guppylang-internals~=0.23.0 (from guppylang)\n",
            "  Downloading guppylang_internals-0.23.0-py3-none-any.whl.metadata (14 kB)\n",
            "Requirement already satisfied: numpy~=2.0 in /usr/local/lib/python3.12/dist-packages (from guppylang) (2.0.2)\n",
            "Collecting selene-sim~=0.2.0 (from guppylang)\n",
            "  Downloading selene_sim-0.2.4-py3-none-manylinux_2_28_x86_64.whl.metadata (6.0 kB)\n",
            "Collecting hugr~=0.13.1 (from guppylang-internals~=0.23.0->guppylang)\n",
            "  Downloading hugr-0.13.1-cp310-abi3-manylinux_2_17_x86_64.manylinux2014_x86_64.whl.metadata (3.0 kB)\n",
            "Collecting tket-exts~=0.10.0 (from guppylang-internals~=0.23.0->guppylang)\n",
            "  Downloading tket_exts-0.10.1-py3-none-any.whl.metadata (15 kB)\n",
            "Requirement already satisfied: typing-extensions<5,>=4.9.0 in /usr/local/lib/python3.12/dist-packages (from guppylang-internals~=0.23.0->guppylang) (4.15.0)\n",
            "Collecting lief>=0.16.5 (from selene-sim~=0.2.0->guppylang)\n",
            "  Downloading lief-0.16.6-cp312-cp312-manylinux_2_28_x86_64.whl.metadata (2.4 kB)\n",
            "Collecting numpy~=2.0 (from guppylang)\n",
            "  Downloading numpy-2.3.2-cp312-cp312-manylinux_2_27_x86_64.manylinux_2_28_x86_64.whl.metadata (62 kB)\n",
            "\u001b[2K     \u001b[90m━━━━━━━━━━━━━━━━━━━━━━━━━━━━━━━━━━━━━━━━\u001b[0m \u001b[32m62.1/62.1 kB\u001b[0m \u001b[31m3.7 MB/s\u001b[0m eta \u001b[36m0:00:00\u001b[0m\n",
            "\u001b[?25hCollecting pydot>=4.0.0 (from selene-sim~=0.2.0->guppylang)\n",
            "  Downloading pydot-4.0.1-py3-none-any.whl.metadata (11 kB)\n",
            "Requirement already satisfied: pyyaml>=6.0.2 in /usr/local/lib/python3.12/dist-packages (from selene-sim~=0.2.0->guppylang) (6.0.2)\n",
            "Collecting selene-core~=0.2.1 (from selene-sim~=0.2.0->guppylang)\n",
            "  Downloading selene_core-0.2.1-py3-none-any.whl.metadata (1.7 kB)\n",
            "Collecting selene-hugr-qis-compiler~=0.2.1 (from selene-sim~=0.2.0->guppylang)\n",
            "  Downloading selene_hugr_qis_compiler-0.2.4-cp310-abi3-manylinux_2_28_x86_64.whl.metadata (2.2 kB)\n",
            "Requirement already satisfied: tqdm>=4.66 in /usr/local/lib/python3.12/dist-packages (from selene-sim~=0.2.0->guppylang) (4.67.1)\n",
            "Collecting ziglang~=0.13 (from selene-sim~=0.2.0->guppylang)\n",
            "  Downloading ziglang-0.15.1-py3-none-manylinux_2_12_x86_64.manylinux2010_x86_64.musllinux_1_1_x86_64.whl.metadata (3.2 kB)\n",
            "Requirement already satisfied: graphviz>=0.20.3 in /usr/local/lib/python3.12/dist-packages (from hugr~=0.13.1->guppylang-internals~=0.23.0->guppylang) (0.21)\n",
            "Requirement already satisfied: pydantic<2.12,>=2.8 in /usr/local/lib/python3.12/dist-packages (from hugr~=0.13.1->guppylang-internals~=0.23.0->guppylang) (2.11.7)\n",
            "Collecting pydantic-extra-types>=2.9.0 (from hugr~=0.13.1->guppylang-internals~=0.23.0->guppylang)\n",
            "  Downloading pydantic_extra_types-2.10.5-py3-none-any.whl.metadata (3.9 kB)\n",
            "Collecting semver>=3.0.2 (from hugr~=0.13.1->guppylang-internals~=0.23.0->guppylang)\n",
            "  Downloading semver-3.0.4-py3-none-any.whl.metadata (6.8 kB)\n",
            "Collecting pyzstd<0.18.0,>=0.16.2 (from hugr~=0.13.1->guppylang-internals~=0.23.0->guppylang)\n",
            "  Downloading pyzstd-0.17.0-cp312-cp312-manylinux_2_17_x86_64.manylinux2014_x86_64.whl.metadata (2.5 kB)\n",
            "Requirement already satisfied: pyparsing>=3.1.0 in /usr/local/lib/python3.12/dist-packages (from pydot>=4.0.0->selene-sim~=0.2.0->guppylang) (3.2.3)\n",
            "Requirement already satisfied: networkx<4,>=2.6 in /usr/local/lib/python3.12/dist-packages (from selene-core~=0.2.1->selene-sim~=0.2.0->guppylang) (3.5)\n",
            "Requirement already satisfied: annotated-types>=0.6.0 in /usr/local/lib/python3.12/dist-packages (from pydantic<2.12,>=2.8->hugr~=0.13.1->guppylang-internals~=0.23.0->guppylang) (0.7.0)\n",
            "Requirement already satisfied: pydantic-core==2.33.2 in /usr/local/lib/python3.12/dist-packages (from pydantic<2.12,>=2.8->hugr~=0.13.1->guppylang-internals~=0.23.0->guppylang) (2.33.2)\n",
            "Requirement already satisfied: typing-inspection>=0.4.0 in /usr/local/lib/python3.12/dist-packages (from pydantic<2.12,>=2.8->hugr~=0.13.1->guppylang-internals~=0.23.0->guppylang) (0.4.1)\n",
            "Downloading guppylang-0.21.3-py3-none-any.whl (54 kB)\n",
            "\u001b[2K   \u001b[90m━━━━━━━━━━━━━━━━━━━━━━━━━━━━━━━━━━━━━━━━\u001b[0m \u001b[32m54.1/54.1 kB\u001b[0m \u001b[31m3.2 MB/s\u001b[0m eta \u001b[36m0:00:00\u001b[0m\n",
            "\u001b[?25hDownloading guppylang_internals-0.23.0-py3-none-any.whl (224 kB)\n",
            "\u001b[2K   \u001b[90m━━━━━━━━━━━━━━━━━━━━━━━━━━━━━━━━━━━━━━━━\u001b[0m \u001b[32m224.0/224.0 kB\u001b[0m \u001b[31m15.7 MB/s\u001b[0m eta \u001b[36m0:00:00\u001b[0m\n",
            "\u001b[?25hDownloading selene_sim-0.2.4-py3-none-manylinux_2_28_x86_64.whl (4.4 MB)\n",
            "\u001b[2K   \u001b[90m━━━━━━━━━━━━━━━━━━━━━━━━━━━━━━━━━━━━━━━━\u001b[0m \u001b[32m4.4/4.4 MB\u001b[0m \u001b[31m10.2 MB/s\u001b[0m eta \u001b[36m0:00:00\u001b[0m\n",
            "\u001b[?25hDownloading numpy-2.3.2-cp312-cp312-manylinux_2_27_x86_64.manylinux_2_28_x86_64.whl (16.6 MB)\n",
            "\u001b[2K   \u001b[90m━━━━━━━━━━━━━━━━━━━━━━━━━━━━━━━━━━━━━━━━\u001b[0m \u001b[32m16.6/16.6 MB\u001b[0m \u001b[31m51.4 MB/s\u001b[0m eta \u001b[36m0:00:00\u001b[0m\n",
            "\u001b[?25hDownloading hugr-0.13.1-cp310-abi3-manylinux_2_17_x86_64.manylinux2014_x86_64.whl (612 kB)\n",
            "\u001b[2K   \u001b[90m━━━━━━━━━━━━━━━━━━━━━━━━━━━━━━━━━━━━━━━━\u001b[0m \u001b[32m612.7/612.7 kB\u001b[0m \u001b[31m19.9 MB/s\u001b[0m eta \u001b[36m0:00:00\u001b[0m\n",
            "\u001b[?25hDownloading lief-0.16.6-cp312-cp312-manylinux_2_28_x86_64.whl (3.0 MB)\n",
            "\u001b[2K   \u001b[90m━━━━━━━━━━━━━━━━━━━━━━━━━━━━━━━━━━━━━━━━\u001b[0m \u001b[32m3.0/3.0 MB\u001b[0m \u001b[31m20.6 MB/s\u001b[0m eta \u001b[36m0:00:00\u001b[0m\n",
            "\u001b[?25hDownloading pydot-4.0.1-py3-none-any.whl (37 kB)\n",
            "Downloading selene_core-0.2.1-py3-none-any.whl (36 kB)\n",
            "Downloading selene_hugr_qis_compiler-0.2.4-cp310-abi3-manylinux_2_28_x86_64.whl (34.2 MB)\n",
            "\u001b[2K   \u001b[90m━━━━━━━━━━━━━━━━━━━━━━━━━━━━━━━━━━━━━━━━\u001b[0m \u001b[32m34.2/34.2 MB\u001b[0m \u001b[31m6.3 MB/s\u001b[0m eta \u001b[36m0:00:00\u001b[0m\n",
            "\u001b[?25hDownloading tket_exts-0.10.1-py3-none-any.whl (18 kB)\n",
            "Downloading ziglang-0.15.1-py3-none-manylinux_2_12_x86_64.manylinux2010_x86_64.musllinux_1_1_x86_64.whl (93.5 MB)\n",
            "\u001b[2K   \u001b[90m━━━━━━━━━━━━━━━━━━━━━━━━━━━━━━━━━━━━━━━━\u001b[0m \u001b[32m93.5/93.5 MB\u001b[0m \u001b[31m7.8 MB/s\u001b[0m eta \u001b[36m0:00:00\u001b[0m\n",
            "\u001b[?25hDownloading pydantic_extra_types-2.10.5-py3-none-any.whl (38 kB)\n",
            "Downloading pyzstd-0.17.0-cp312-cp312-manylinux_2_17_x86_64.manylinux2014_x86_64.whl (413 kB)\n",
            "\u001b[2K   \u001b[90m━━━━━━━━━━━━━━━━━━━━━━━━━━━━━━━━━━━━━━━━\u001b[0m \u001b[32m413.6/413.6 kB\u001b[0m \u001b[31m17.0 MB/s\u001b[0m eta \u001b[36m0:00:00\u001b[0m\n",
            "\u001b[?25hDownloading semver-3.0.4-py3-none-any.whl (17 kB)\n",
            "Installing collected packages: ziglang, semver, selene-hugr-qis-compiler, pyzstd, pydot, numpy, lief, selene-core, pydantic-extra-types, hugr, tket-exts, selene-sim, guppylang-internals, guppylang\n",
            "  Attempting uninstall: pydot\n",
            "    Found existing installation: pydot 3.0.4\n",
            "    Uninstalling pydot-3.0.4:\n",
            "      Successfully uninstalled pydot-3.0.4\n",
            "  Attempting uninstall: numpy\n",
            "    Found existing installation: numpy 2.0.2\n",
            "    Uninstalling numpy-2.0.2:\n",
            "      Successfully uninstalled numpy-2.0.2\n",
            "\u001b[31mERROR: pip's dependency resolver does not currently take into account all the packages that are installed. This behaviour is the source of the following dependency conflicts.\n",
            "cupy-cuda12x 13.3.0 requires numpy<2.3,>=1.22, but you have numpy 2.3.2 which is incompatible.\n",
            "opencv-contrib-python 4.12.0.88 requires numpy<2.3.0,>=2; python_version >= \"3.9\", but you have numpy 2.3.2 which is incompatible.\n",
            "opencv-python-headless 4.12.0.88 requires numpy<2.3.0,>=2; python_version >= \"3.9\", but you have numpy 2.3.2 which is incompatible.\n",
            "tensorflow 2.19.0 requires numpy<2.2.0,>=1.26.0, but you have numpy 2.3.2 which is incompatible.\n",
            "numba 0.60.0 requires numpy<2.1,>=1.22, but you have numpy 2.3.2 which is incompatible.\n",
            "opencv-python 4.12.0.88 requires numpy<2.3.0,>=2; python_version >= \"3.9\", but you have numpy 2.3.2 which is incompatible.\u001b[0m\u001b[31m\n",
            "\u001b[0mSuccessfully installed guppylang-0.21.3 guppylang-internals-0.23.0 hugr-0.13.1 lief-0.16.6 numpy-2.3.2 pydantic-extra-types-2.10.5 pydot-4.0.1 pyzstd-0.17.0 selene-core-0.2.1 selene-hugr-qis-compiler-0.2.4 selene-sim-0.2.4 semver-3.0.4 tket-exts-0.10.1 ziglang-0.15.1\n"
          ]
        },
        {
          "output_type": "display_data",
          "data": {
            "application/vnd.colab-display-data+json": {
              "pip_warning": {
                "packages": [
                  "numpy"
                ]
              },
              "id": "e82718a9cec24a84aac02f5b361b355d"
            }
          },
          "metadata": {}
        }
      ],
      "source": [
        "pip install guppylang"
      ]
    },
    {
      "cell_type": "markdown",
      "source": [
        "I had to compelte a runtime restart here to get things going. Go ahead and run the pip again to make sure everything is now satisfied."
      ],
      "metadata": {
        "id": "QFb-moef6_vJ"
      }
    },
    {
      "cell_type": "code",
      "source": [
        "pip install guppylang"
      ],
      "metadata": {
        "colab": {
          "base_uri": "https://localhost:8080/"
        },
        "id": "D-Kfv8pG7EYA",
        "outputId": "bd5f3a01-ea57-4e0c-86fa-70705f213807"
      },
      "execution_count": 1,
      "outputs": [
        {
          "output_type": "stream",
          "name": "stdout",
          "text": [
            "Requirement already satisfied: guppylang in /usr/local/lib/python3.12/dist-packages (0.21.3)\n",
            "Requirement already satisfied: guppylang-internals~=0.23.0 in /usr/local/lib/python3.12/dist-packages (from guppylang) (0.23.0)\n",
            "Requirement already satisfied: numpy~=2.0 in /usr/local/lib/python3.12/dist-packages (from guppylang) (2.3.2)\n",
            "Requirement already satisfied: selene-sim~=0.2.0 in /usr/local/lib/python3.12/dist-packages (from guppylang) (0.2.4)\n",
            "Requirement already satisfied: hugr~=0.13.1 in /usr/local/lib/python3.12/dist-packages (from guppylang-internals~=0.23.0->guppylang) (0.13.1)\n",
            "Requirement already satisfied: tket-exts~=0.10.0 in /usr/local/lib/python3.12/dist-packages (from guppylang-internals~=0.23.0->guppylang) (0.10.1)\n",
            "Requirement already satisfied: typing-extensions<5,>=4.9.0 in /usr/local/lib/python3.12/dist-packages (from guppylang-internals~=0.23.0->guppylang) (4.15.0)\n",
            "Requirement already satisfied: lief>=0.16.5 in /usr/local/lib/python3.12/dist-packages (from selene-sim~=0.2.0->guppylang) (0.16.6)\n",
            "Requirement already satisfied: pydot>=4.0.0 in /usr/local/lib/python3.12/dist-packages (from selene-sim~=0.2.0->guppylang) (4.0.1)\n",
            "Requirement already satisfied: pyyaml>=6.0.2 in /usr/local/lib/python3.12/dist-packages (from selene-sim~=0.2.0->guppylang) (6.0.2)\n",
            "Requirement already satisfied: selene-core~=0.2.1 in /usr/local/lib/python3.12/dist-packages (from selene-sim~=0.2.0->guppylang) (0.2.1)\n",
            "Requirement already satisfied: selene-hugr-qis-compiler~=0.2.1 in /usr/local/lib/python3.12/dist-packages (from selene-sim~=0.2.0->guppylang) (0.2.4)\n",
            "Requirement already satisfied: tqdm>=4.66 in /usr/local/lib/python3.12/dist-packages (from selene-sim~=0.2.0->guppylang) (4.67.1)\n",
            "Requirement already satisfied: ziglang~=0.13 in /usr/local/lib/python3.12/dist-packages (from selene-sim~=0.2.0->guppylang) (0.15.1)\n",
            "Requirement already satisfied: graphviz>=0.20.3 in /usr/local/lib/python3.12/dist-packages (from hugr~=0.13.1->guppylang-internals~=0.23.0->guppylang) (0.21)\n",
            "Requirement already satisfied: pydantic<2.12,>=2.8 in /usr/local/lib/python3.12/dist-packages (from hugr~=0.13.1->guppylang-internals~=0.23.0->guppylang) (2.11.7)\n",
            "Requirement already satisfied: pydantic-extra-types>=2.9.0 in /usr/local/lib/python3.12/dist-packages (from hugr~=0.13.1->guppylang-internals~=0.23.0->guppylang) (2.10.5)\n",
            "Requirement already satisfied: semver>=3.0.2 in /usr/local/lib/python3.12/dist-packages (from hugr~=0.13.1->guppylang-internals~=0.23.0->guppylang) (3.0.4)\n",
            "Requirement already satisfied: pyzstd<0.18.0,>=0.16.2 in /usr/local/lib/python3.12/dist-packages (from hugr~=0.13.1->guppylang-internals~=0.23.0->guppylang) (0.17.0)\n",
            "Requirement already satisfied: pyparsing>=3.1.0 in /usr/local/lib/python3.12/dist-packages (from pydot>=4.0.0->selene-sim~=0.2.0->guppylang) (3.2.3)\n",
            "Requirement already satisfied: networkx<4,>=2.6 in /usr/local/lib/python3.12/dist-packages (from selene-core~=0.2.1->selene-sim~=0.2.0->guppylang) (3.5)\n",
            "Requirement already satisfied: annotated-types>=0.6.0 in /usr/local/lib/python3.12/dist-packages (from pydantic<2.12,>=2.8->hugr~=0.13.1->guppylang-internals~=0.23.0->guppylang) (0.7.0)\n",
            "Requirement already satisfied: pydantic-core==2.33.2 in /usr/local/lib/python3.12/dist-packages (from pydantic<2.12,>=2.8->hugr~=0.13.1->guppylang-internals~=0.23.0->guppylang) (2.33.2)\n",
            "Requirement already satisfied: typing-inspection>=0.4.0 in /usr/local/lib/python3.12/dist-packages (from pydantic<2.12,>=2.8->hugr~=0.13.1->guppylang-internals~=0.23.0->guppylang) (0.4.1)\n"
          ]
        }
      ]
    },
    {
      "cell_type": "markdown",
      "source": [
        "Check out this code from the Guppy documentation"
      ],
      "metadata": {
        "id": "0P5ZJqBb7Oa6"
      }
    },
    {
      "cell_type": "code",
      "source": [
        "from guppylang import guppy\n",
        "from guppylang.std.builtins import owned\n",
        "from guppylang.std.quantum import cx, h, measure, qubit, x, z\n",
        "\n",
        "\n",
        "@guppy\n",
        "def teleport(src: qubit @ owned, tgt: qubit) -> None:\n",
        "    \"\"\"Teleports the state in `src` to `tgt`.\"\"\"\n",
        "    # Create ancilla and entangle it with src and tgt\n",
        "    tmp = qubit()\n",
        "    h(tmp)\n",
        "    cx(tmp, tgt)\n",
        "    cx(src, tmp)\n",
        "\n",
        "    # Apply classical corrections\n",
        "    h(src)\n",
        "    if measure(src):\n",
        "        z(tgt)\n",
        "    if measure(tmp):\n",
        "        x(tgt)"
      ],
      "metadata": {
        "id": "RpQ_EYqK7gEo"
      },
      "execution_count": 2,
      "outputs": []
    },
    {
      "cell_type": "code",
      "source": [
        "from guppylang.std.builtins import result\n",
        "\n",
        "@guppy\n",
        "def teleport_one_state() -> None:\n",
        "    src = qubit()\n",
        "    tgt = qubit()\n",
        "\n",
        "    # Let's teleport the |1> state\n",
        "    x(src)\n",
        "    teleport(src, tgt)\n",
        "\n",
        "    result(\"teleported\", measure(tgt))"
      ],
      "metadata": {
        "id": "ZtxPA_7H7l1F"
      },
      "execution_count": 3,
      "outputs": []
    },
    {
      "cell_type": "code",
      "source": [
        "sim_result = teleport_one_state.emulator(n_qubits=3).stabilizer_sim().with_seed(2).run()\n",
        "list(sim_result.results)"
      ],
      "metadata": {
        "colab": {
          "base_uri": "https://localhost:8080/"
        },
        "id": "WMXOb1GX7qTl",
        "outputId": "8a069443-485c-4130-c913-76e5266dc265"
      },
      "execution_count": 4,
      "outputs": [
        {
          "output_type": "execute_result",
          "data": {
            "text/plain": [
              "[QsysShot(entries=[('teleported', 1)])]"
            ]
          },
          "metadata": {},
          "execution_count": 4
        }
      ]
    }
  ]
}