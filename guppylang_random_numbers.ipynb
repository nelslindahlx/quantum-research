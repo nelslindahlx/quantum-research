{
  "cells": [
    {
      "cell_type": "markdown",
      "metadata": {
        "id": "view-in-github",
        "colab_type": "text"
      },
      "source": [
        "<a href=\"https://colab.research.google.com/github/nelslindahlx/quantum-research/blob/main/guppylang_random_numbers.ipynb\" target=\"_parent\"><img src=\"https://colab.research.google.com/assets/colab-badge.svg\" alt=\"Open In Colab\"/></a>"
      ]
    },
    {
      "cell_type": "markdown",
      "metadata": {
        "id": "wgMk74hct0yj"
      },
      "source": [
        "# Random Number Generation\n",
        "\n",
        "**Download this notebook - {nb-download}`random_numbers.ipynb`**\n",
        "\n",
        "In this simple example we look at using random numbers with Guppy and Selene.\n",
        "The example randomly applies simple identities to a qubit. This style of program is\n",
        "often used in [Randomized\n",
        "Benchmarking](https://en.wikipedia.org/wiki/Randomized_benchmarking)\n",
        "as the rate of unexpected outcomes can indicate error rates in the system.\n",
        "\n",
        "There are two ways of using random numbers:\n",
        "1. Generate them ahead of time in Python and store in the Guppy program.\n",
        "2. Generate them on the fly.\n",
        "\n",
        "We will look at both options."
      ]
    },
    {
      "cell_type": "markdown",
      "source": [
        "I had to add this pip for the guppylang"
      ],
      "metadata": {
        "id": "Cyi4oeCO3ZFR"
      }
    },
    {
      "cell_type": "code",
      "source": [
        "pip install guppylang"
      ],
      "metadata": {
        "colab": {
          "base_uri": "https://localhost:8080/",
          "height": 1000
        },
        "id": "8ReR5HfGgmIw",
        "outputId": "3edb5cf2-34bb-4275-92da-64f2d33d99fb"
      },
      "execution_count": 1,
      "outputs": [
        {
          "output_type": "stream",
          "name": "stdout",
          "text": [
            "Collecting guppylang\n",
            "  Downloading guppylang-0.21.3-py3-none-any.whl.metadata (15 kB)\n",
            "Collecting guppylang-internals~=0.23.0 (from guppylang)\n",
            "  Downloading guppylang_internals-0.23.0-py3-none-any.whl.metadata (14 kB)\n",
            "Requirement already satisfied: numpy~=2.0 in /usr/local/lib/python3.12/dist-packages (from guppylang) (2.0.2)\n",
            "Collecting selene-sim~=0.2.0 (from guppylang)\n",
            "  Downloading selene_sim-0.2.4-py3-none-manylinux_2_28_x86_64.whl.metadata (6.0 kB)\n",
            "Collecting hugr~=0.13.1 (from guppylang-internals~=0.23.0->guppylang)\n",
            "  Downloading hugr-0.13.1-cp310-abi3-manylinux_2_17_x86_64.manylinux2014_x86_64.whl.metadata (3.0 kB)\n",
            "Collecting tket-exts~=0.10.0 (from guppylang-internals~=0.23.0->guppylang)\n",
            "  Downloading tket_exts-0.10.1-py3-none-any.whl.metadata (15 kB)\n",
            "Requirement already satisfied: typing-extensions<5,>=4.9.0 in /usr/local/lib/python3.12/dist-packages (from guppylang-internals~=0.23.0->guppylang) (4.15.0)\n",
            "Collecting lief>=0.16.5 (from selene-sim~=0.2.0->guppylang)\n",
            "  Downloading lief-0.16.6-cp312-cp312-manylinux_2_28_x86_64.whl.metadata (2.4 kB)\n",
            "Collecting numpy~=2.0 (from guppylang)\n",
            "  Downloading numpy-2.3.2-cp312-cp312-manylinux_2_27_x86_64.manylinux_2_28_x86_64.whl.metadata (62 kB)\n",
            "\u001b[2K     \u001b[90m━━━━━━━━━━━━━━━━━━━━━━━━━━━━━━━━━━━━━━━━\u001b[0m \u001b[32m62.1/62.1 kB\u001b[0m \u001b[31m2.4 MB/s\u001b[0m eta \u001b[36m0:00:00\u001b[0m\n",
            "\u001b[?25hCollecting pydot>=4.0.0 (from selene-sim~=0.2.0->guppylang)\n",
            "  Downloading pydot-4.0.1-py3-none-any.whl.metadata (11 kB)\n",
            "Requirement already satisfied: pyyaml>=6.0.2 in /usr/local/lib/python3.12/dist-packages (from selene-sim~=0.2.0->guppylang) (6.0.2)\n",
            "Collecting selene-core~=0.2.1 (from selene-sim~=0.2.0->guppylang)\n",
            "  Downloading selene_core-0.2.1-py3-none-any.whl.metadata (1.7 kB)\n",
            "Collecting selene-hugr-qis-compiler~=0.2.1 (from selene-sim~=0.2.0->guppylang)\n",
            "  Downloading selene_hugr_qis_compiler-0.2.4-cp310-abi3-manylinux_2_28_x86_64.whl.metadata (2.2 kB)\n",
            "Requirement already satisfied: tqdm>=4.66 in /usr/local/lib/python3.12/dist-packages (from selene-sim~=0.2.0->guppylang) (4.67.1)\n",
            "Collecting ziglang~=0.13 (from selene-sim~=0.2.0->guppylang)\n",
            "  Downloading ziglang-0.15.1-py3-none-manylinux_2_12_x86_64.manylinux2010_x86_64.musllinux_1_1_x86_64.whl.metadata (3.2 kB)\n",
            "Requirement already satisfied: graphviz>=0.20.3 in /usr/local/lib/python3.12/dist-packages (from hugr~=0.13.1->guppylang-internals~=0.23.0->guppylang) (0.21)\n",
            "Requirement already satisfied: pydantic<2.12,>=2.8 in /usr/local/lib/python3.12/dist-packages (from hugr~=0.13.1->guppylang-internals~=0.23.0->guppylang) (2.11.7)\n",
            "Collecting pydantic-extra-types>=2.9.0 (from hugr~=0.13.1->guppylang-internals~=0.23.0->guppylang)\n",
            "  Downloading pydantic_extra_types-2.10.5-py3-none-any.whl.metadata (3.9 kB)\n",
            "Collecting semver>=3.0.2 (from hugr~=0.13.1->guppylang-internals~=0.23.0->guppylang)\n",
            "  Downloading semver-3.0.4-py3-none-any.whl.metadata (6.8 kB)\n",
            "Collecting pyzstd<0.18.0,>=0.16.2 (from hugr~=0.13.1->guppylang-internals~=0.23.0->guppylang)\n",
            "  Downloading pyzstd-0.17.0-cp312-cp312-manylinux_2_17_x86_64.manylinux2014_x86_64.whl.metadata (2.5 kB)\n",
            "Requirement already satisfied: pyparsing>=3.1.0 in /usr/local/lib/python3.12/dist-packages (from pydot>=4.0.0->selene-sim~=0.2.0->guppylang) (3.2.3)\n",
            "Requirement already satisfied: networkx<4,>=2.6 in /usr/local/lib/python3.12/dist-packages (from selene-core~=0.2.1->selene-sim~=0.2.0->guppylang) (3.5)\n",
            "Requirement already satisfied: annotated-types>=0.6.0 in /usr/local/lib/python3.12/dist-packages (from pydantic<2.12,>=2.8->hugr~=0.13.1->guppylang-internals~=0.23.0->guppylang) (0.7.0)\n",
            "Requirement already satisfied: pydantic-core==2.33.2 in /usr/local/lib/python3.12/dist-packages (from pydantic<2.12,>=2.8->hugr~=0.13.1->guppylang-internals~=0.23.0->guppylang) (2.33.2)\n",
            "Requirement already satisfied: typing-inspection>=0.4.0 in /usr/local/lib/python3.12/dist-packages (from pydantic<2.12,>=2.8->hugr~=0.13.1->guppylang-internals~=0.23.0->guppylang) (0.4.1)\n",
            "Downloading guppylang-0.21.3-py3-none-any.whl (54 kB)\n",
            "\u001b[2K   \u001b[90m━━━━━━━━━━━━━━━━━━━━━━━━━━━━━━━━━━━━━━━━\u001b[0m \u001b[32m54.1/54.1 kB\u001b[0m \u001b[31m2.9 MB/s\u001b[0m eta \u001b[36m0:00:00\u001b[0m\n",
            "\u001b[?25hDownloading guppylang_internals-0.23.0-py3-none-any.whl (224 kB)\n",
            "\u001b[2K   \u001b[90m━━━━━━━━━━━━━━━━━━━━━━━━━━━━━━━━━━━━━━━━\u001b[0m \u001b[32m224.0/224.0 kB\u001b[0m \u001b[31m8.2 MB/s\u001b[0m eta \u001b[36m0:00:00\u001b[0m\n",
            "\u001b[?25hDownloading selene_sim-0.2.4-py3-none-manylinux_2_28_x86_64.whl (4.4 MB)\n",
            "\u001b[2K   \u001b[90m━━━━━━━━━━━━━━━━━━━━━━━━━━━━━━━━━━━━━━━━\u001b[0m \u001b[32m4.4/4.4 MB\u001b[0m \u001b[31m58.1 MB/s\u001b[0m eta \u001b[36m0:00:00\u001b[0m\n",
            "\u001b[?25hDownloading numpy-2.3.2-cp312-cp312-manylinux_2_27_x86_64.manylinux_2_28_x86_64.whl (16.6 MB)\n",
            "\u001b[2K   \u001b[90m━━━━━━━━━━━━━━━━━━━━━━━━━━━━━━━━━━━━━━━━\u001b[0m \u001b[32m16.6/16.6 MB\u001b[0m \u001b[31m83.5 MB/s\u001b[0m eta \u001b[36m0:00:00\u001b[0m\n",
            "\u001b[?25hDownloading hugr-0.13.1-cp310-abi3-manylinux_2_17_x86_64.manylinux2014_x86_64.whl (612 kB)\n",
            "\u001b[2K   \u001b[90m━━━━━━━━━━━━━━━━━━━━━━━━━━━━━━━━━━━━━━━━\u001b[0m \u001b[32m612.7/612.7 kB\u001b[0m \u001b[31m29.6 MB/s\u001b[0m eta \u001b[36m0:00:00\u001b[0m\n",
            "\u001b[?25hDownloading lief-0.16.6-cp312-cp312-manylinux_2_28_x86_64.whl (3.0 MB)\n",
            "\u001b[2K   \u001b[90m━━━━━━━━━━━━━━━━━━━━━━━━━━━━━━━━━━━━━━━━\u001b[0m \u001b[32m3.0/3.0 MB\u001b[0m \u001b[31m81.1 MB/s\u001b[0m eta \u001b[36m0:00:00\u001b[0m\n",
            "\u001b[?25hDownloading pydot-4.0.1-py3-none-any.whl (37 kB)\n",
            "Downloading selene_core-0.2.1-py3-none-any.whl (36 kB)\n",
            "Downloading selene_hugr_qis_compiler-0.2.4-cp310-abi3-manylinux_2_28_x86_64.whl (34.2 MB)\n",
            "\u001b[2K   \u001b[90m━━━━━━━━━━━━━━━━━━━━━━━━━━━━━━━━━━━━━━━━\u001b[0m \u001b[32m34.2/34.2 MB\u001b[0m \u001b[31m17.3 MB/s\u001b[0m eta \u001b[36m0:00:00\u001b[0m\n",
            "\u001b[?25hDownloading tket_exts-0.10.1-py3-none-any.whl (18 kB)\n",
            "Downloading ziglang-0.15.1-py3-none-manylinux_2_12_x86_64.manylinux2010_x86_64.musllinux_1_1_x86_64.whl (93.5 MB)\n",
            "\u001b[2K   \u001b[90m━━━━━━━━━━━━━━━━━━━━━━━━━━━━━━━━━━━━━━━━\u001b[0m \u001b[32m93.5/93.5 MB\u001b[0m \u001b[31m8.3 MB/s\u001b[0m eta \u001b[36m0:00:00\u001b[0m\n",
            "\u001b[?25hDownloading pydantic_extra_types-2.10.5-py3-none-any.whl (38 kB)\n",
            "Downloading pyzstd-0.17.0-cp312-cp312-manylinux_2_17_x86_64.manylinux2014_x86_64.whl (413 kB)\n",
            "\u001b[2K   \u001b[90m━━━━━━━━━━━━━━━━━━━━━━━━━━━━━━━━━━━━━━━━\u001b[0m \u001b[32m413.6/413.6 kB\u001b[0m \u001b[31m23.8 MB/s\u001b[0m eta \u001b[36m0:00:00\u001b[0m\n",
            "\u001b[?25hDownloading semver-3.0.4-py3-none-any.whl (17 kB)\n",
            "Installing collected packages: ziglang, semver, selene-hugr-qis-compiler, pyzstd, pydot, numpy, lief, selene-core, pydantic-extra-types, hugr, tket-exts, selene-sim, guppylang-internals, guppylang\n",
            "  Attempting uninstall: pydot\n",
            "    Found existing installation: pydot 3.0.4\n",
            "    Uninstalling pydot-3.0.4:\n",
            "      Successfully uninstalled pydot-3.0.4\n",
            "  Attempting uninstall: numpy\n",
            "    Found existing installation: numpy 2.0.2\n",
            "    Uninstalling numpy-2.0.2:\n",
            "      Successfully uninstalled numpy-2.0.2\n",
            "\u001b[31mERROR: pip's dependency resolver does not currently take into account all the packages that are installed. This behaviour is the source of the following dependency conflicts.\n",
            "opencv-contrib-python 4.12.0.88 requires numpy<2.3.0,>=2; python_version >= \"3.9\", but you have numpy 2.3.2 which is incompatible.\n",
            "opencv-python-headless 4.12.0.88 requires numpy<2.3.0,>=2; python_version >= \"3.9\", but you have numpy 2.3.2 which is incompatible.\n",
            "numba 0.60.0 requires numpy<2.1,>=1.22, but you have numpy 2.3.2 which is incompatible.\n",
            "opencv-python 4.12.0.88 requires numpy<2.3.0,>=2; python_version >= \"3.9\", but you have numpy 2.3.2 which is incompatible.\n",
            "cupy-cuda12x 13.3.0 requires numpy<2.3,>=1.22, but you have numpy 2.3.2 which is incompatible.\n",
            "tensorflow 2.19.0 requires numpy<2.2.0,>=1.26.0, but you have numpy 2.3.2 which is incompatible.\u001b[0m\u001b[31m\n",
            "\u001b[0mSuccessfully installed guppylang-0.21.3 guppylang-internals-0.23.0 hugr-0.13.1 lief-0.16.6 numpy-2.3.2 pydantic-extra-types-2.10.5 pydot-4.0.1 pyzstd-0.17.0 selene-core-0.2.1 selene-hugr-qis-compiler-0.2.4 selene-sim-0.2.4 semver-3.0.4 tket-exts-0.10.1 ziglang-0.15.1\n"
          ]
        },
        {
          "output_type": "display_data",
          "data": {
            "application/vnd.colab-display-data+json": {
              "pip_warning": {
                "packages": [
                  "numpy"
                ]
              },
              "id": "65019cef425b4c9ca5fce97f9f1d311c"
            }
          },
          "metadata": {}
        }
      ]
    },
    {
      "cell_type": "markdown",
      "source": [
        "We needed a restart to had to run pip again to check on requirements being satisifed"
      ],
      "metadata": {
        "id": "4rJh8IXX3c0I"
      }
    },
    {
      "cell_type": "code",
      "source": [
        "pip install guppylang"
      ],
      "metadata": {
        "colab": {
          "base_uri": "https://localhost:8080/"
        },
        "id": "Rj-bc9l-grDV",
        "outputId": "63442ad6-1110-4cd5-e84b-521e4d75b419"
      },
      "execution_count": 1,
      "outputs": [
        {
          "output_type": "stream",
          "name": "stdout",
          "text": [
            "Requirement already satisfied: guppylang in /usr/local/lib/python3.12/dist-packages (0.21.3)\n",
            "Requirement already satisfied: guppylang-internals~=0.23.0 in /usr/local/lib/python3.12/dist-packages (from guppylang) (0.23.0)\n",
            "Requirement already satisfied: numpy~=2.0 in /usr/local/lib/python3.12/dist-packages (from guppylang) (2.3.2)\n",
            "Requirement already satisfied: selene-sim~=0.2.0 in /usr/local/lib/python3.12/dist-packages (from guppylang) (0.2.4)\n",
            "Requirement already satisfied: hugr~=0.13.1 in /usr/local/lib/python3.12/dist-packages (from guppylang-internals~=0.23.0->guppylang) (0.13.1)\n",
            "Requirement already satisfied: tket-exts~=0.10.0 in /usr/local/lib/python3.12/dist-packages (from guppylang-internals~=0.23.0->guppylang) (0.10.1)\n",
            "Requirement already satisfied: typing-extensions<5,>=4.9.0 in /usr/local/lib/python3.12/dist-packages (from guppylang-internals~=0.23.0->guppylang) (4.15.0)\n",
            "Requirement already satisfied: lief>=0.16.5 in /usr/local/lib/python3.12/dist-packages (from selene-sim~=0.2.0->guppylang) (0.16.6)\n",
            "Requirement already satisfied: pydot>=4.0.0 in /usr/local/lib/python3.12/dist-packages (from selene-sim~=0.2.0->guppylang) (4.0.1)\n",
            "Requirement already satisfied: pyyaml>=6.0.2 in /usr/local/lib/python3.12/dist-packages (from selene-sim~=0.2.0->guppylang) (6.0.2)\n",
            "Requirement already satisfied: selene-core~=0.2.1 in /usr/local/lib/python3.12/dist-packages (from selene-sim~=0.2.0->guppylang) (0.2.1)\n",
            "Requirement already satisfied: selene-hugr-qis-compiler~=0.2.1 in /usr/local/lib/python3.12/dist-packages (from selene-sim~=0.2.0->guppylang) (0.2.4)\n",
            "Requirement already satisfied: tqdm>=4.66 in /usr/local/lib/python3.12/dist-packages (from selene-sim~=0.2.0->guppylang) (4.67.1)\n",
            "Requirement already satisfied: ziglang~=0.13 in /usr/local/lib/python3.12/dist-packages (from selene-sim~=0.2.0->guppylang) (0.15.1)\n",
            "Requirement already satisfied: graphviz>=0.20.3 in /usr/local/lib/python3.12/dist-packages (from hugr~=0.13.1->guppylang-internals~=0.23.0->guppylang) (0.21)\n",
            "Requirement already satisfied: pydantic<2.12,>=2.8 in /usr/local/lib/python3.12/dist-packages (from hugr~=0.13.1->guppylang-internals~=0.23.0->guppylang) (2.11.7)\n",
            "Requirement already satisfied: pydantic-extra-types>=2.9.0 in /usr/local/lib/python3.12/dist-packages (from hugr~=0.13.1->guppylang-internals~=0.23.0->guppylang) (2.10.5)\n",
            "Requirement already satisfied: semver>=3.0.2 in /usr/local/lib/python3.12/dist-packages (from hugr~=0.13.1->guppylang-internals~=0.23.0->guppylang) (3.0.4)\n",
            "Requirement already satisfied: pyzstd<0.18.0,>=0.16.2 in /usr/local/lib/python3.12/dist-packages (from hugr~=0.13.1->guppylang-internals~=0.23.0->guppylang) (0.17.0)\n",
            "Requirement already satisfied: pyparsing>=3.1.0 in /usr/local/lib/python3.12/dist-packages (from pydot>=4.0.0->selene-sim~=0.2.0->guppylang) (3.2.3)\n",
            "Requirement already satisfied: networkx<4,>=2.6 in /usr/local/lib/python3.12/dist-packages (from selene-core~=0.2.1->selene-sim~=0.2.0->guppylang) (3.5)\n",
            "Requirement already satisfied: annotated-types>=0.6.0 in /usr/local/lib/python3.12/dist-packages (from pydantic<2.12,>=2.8->hugr~=0.13.1->guppylang-internals~=0.23.0->guppylang) (0.7.0)\n",
            "Requirement already satisfied: pydantic-core==2.33.2 in /usr/local/lib/python3.12/dist-packages (from pydantic<2.12,>=2.8->hugr~=0.13.1->guppylang-internals~=0.23.0->guppylang) (2.33.2)\n",
            "Requirement already satisfied: typing-inspection>=0.4.0 in /usr/local/lib/python3.12/dist-packages (from pydantic<2.12,>=2.8->hugr~=0.13.1->guppylang-internals~=0.23.0->guppylang) (0.4.1)\n"
          ]
        }
      ]
    },
    {
      "cell_type": "code",
      "execution_count": 2,
      "metadata": {
        "id": "ouWRREc4t0yl"
      },
      "outputs": [],
      "source": [
        "import random\n",
        "\n",
        "from guppylang import guppy\n",
        "from guppylang.std.builtins import barrier, comptime, result\n",
        "from guppylang.std.qsystem.random import RNG\n",
        "from guppylang.std.qsystem.utils import get_current_shot\n",
        "from guppylang.std.quantum import measure, qubit, x, y, z\n",
        "from guppylang.defs import GuppyFunctionDefinition"
      ]
    },
    {
      "cell_type": "markdown",
      "metadata": {
        "id": "AjtOuZ07t0ym"
      },
      "source": [
        "Let's decide on a seed and make sure we use it for both Python and Guppy randomness, to\n",
        "get deterministic results."
      ]
    },
    {
      "cell_type": "code",
      "execution_count": 4,
      "metadata": {
        "id": "7vPttHKyt0ym"
      },
      "outputs": [],
      "source": [
        "INIT_SEED = 91919\n",
        "random.seed(INIT_SEED)\n",
        "\n",
        "# number of shots we will run\n",
        "N_SHOTS = 150"
      ]
    },
    {
      "cell_type": "markdown",
      "metadata": {
        "id": "5-wAVS_Rt0ym"
      },
      "source": [
        "Let's first write our simple experiment functions in Guppy."
      ]
    },
    {
      "cell_type": "code",
      "execution_count": 5,
      "metadata": {
        "id": "0E3uco6Nt0ym"
      },
      "outputs": [],
      "source": [
        "@guppy\n",
        "def rand_pauli(q: qubit, randval: int) -> None:\n",
        "    \"\"\"Applies a random pauli to a qubit given a number in {0, 1, 2}\"\"\"\n",
        "    if randval == 0:\n",
        "        x(q)\n",
        "    elif randval == 1:\n",
        "        y(q)\n",
        "    else:\n",
        "        z(q)\n",
        "\n",
        "\n",
        "@guppy\n",
        "def pauli_identity(q: qubit, randval: int) -> None:\n",
        "    \"\"\"Apply the same random pauli twice separated by a barrier.\n",
        "    Acts as identity in noiseless case since Paulis are self-adjoint.\"\"\"\n",
        "    rand_pauli(q, randval)\n",
        "    barrier(q)\n",
        "    rand_pauli(q, randval)"
      ]
    },
    {
      "cell_type": "markdown",
      "metadata": {
        "id": "WcaG0W8et0yn"
      },
      "source": [
        "## Pre-compiled randomness\n",
        "\n",
        "First we generate all the random numbers we need ahead of time in Python.\n",
        "This can be stored as an array of integers in a Guppy program using the `comptime`\n",
        "expression.\n",
        "At runtime we use the current shot value to index in to the array and get a fresh random\n",
        "integer for the shot.\n",
        "\n",
        "We report out both the result of measuring the qubit, and the random number used."
      ]
    },
    {
      "cell_type": "code",
      "execution_count": 6,
      "metadata": {
        "id": "K4YeAvLdt0yn"
      },
      "outputs": [],
      "source": [
        "# randint upper bound is inclusive\n",
        "randints = [random.randint(0, 2) for _ in range(N_SHOTS)]\n",
        "\n",
        "\n",
        "@guppy\n",
        "def main() -> None:\n",
        "    q = qubit()\n",
        "    randval = comptime(randints)[get_current_shot()]\n",
        "    pauli_identity(q, randval)\n",
        "    result(\"rng\", randval)\n",
        "    result(\"c\", measure(q))"
      ]
    },
    {
      "cell_type": "markdown",
      "metadata": {
        "id": "QhAeqkGit0yn"
      },
      "source": [
        "We also define a helper function to run our Guppy program.\n",
        "It runs `N_SHOTS` repeats of the program using Stim simulation (since our program is Clifford).\n",
        "\n",
        "No noise model is used so the measurement result \"c\" should always be 0.\n",
        "The function reports the mean of the random numbers over the shots - we expect this to be around 1."
      ]
    },
    {
      "cell_type": "code",
      "execution_count": 7,
      "metadata": {
        "id": "ZVzeBDR3t0yn"
      },
      "outputs": [],
      "source": [
        "def run(main_def: GuppyFunctionDefinition) -> float:\n",
        "    \"\"\"Run the rng example and return the mean of the random numbers generated.\n",
        "\n",
        "    Checks measurement always returns 0 (identity operation on 0 state).\n",
        "    \"\"\"\n",
        "    shots = main_def.emulator(n_qubits=1).stabilizer_sim().with_seed(INIT_SEED).with_shots(N_SHOTS).run()\n",
        "    rands = []\n",
        "    for out in shots.collated_shots():\n",
        "        assert out[\"c\"] == [0]\n",
        "        rands.extend(out[\"rng\"])\n",
        "    return sum(rands) / len(rands)"
      ]
    },
    {
      "cell_type": "code",
      "execution_count": 8,
      "metadata": {
        "colab": {
          "base_uri": "https://localhost:8080/"
        },
        "id": "VgVjGg5kt0yn",
        "outputId": "97763462-06d0-4bd5-fe72-e0c7a1252c0a"
      },
      "outputs": [
        {
          "output_type": "execute_result",
          "data": {
            "text/plain": [
              "1.0133333333333334"
            ]
          },
          "metadata": {},
          "execution_count": 8
        }
      ],
      "source": [
        "run(main)"
      ]
    },
    {
      "cell_type": "markdown",
      "metadata": {
        "id": "c0hPKPqEt0yo"
      },
      "source": [
        "## Runtime randomness\n",
        "\n",
        "The Selene emulator supports random number generation at runtime.\n",
        "This has slightly different behaviour to Python:\n",
        "- To ensure reproducibility you always have to provide a seed to initialise an `RNG`\n",
        "  object. Methods on this object can return random values.\n",
        "- The `RNG` type is linear (like a qubit) and has to be explicitly discarded. This is also\n",
        "  to ensure determinism as it prevents random number generation calls being re-ordered\n",
        "  by the compiler.\n",
        "\n",
        "The benefit over generating ahead of time is that for large experiments you can avoid storing a huge amount of random\n",
        "numbers in the program.\n",
        "\n",
        "We can use the `RNG` type to re-write our main function, using our `INIT_SEED` along\n",
        "with a shift by current shot number to get a different number in each shot:"
      ]
    },
    {
      "cell_type": "code",
      "execution_count": 9,
      "metadata": {
        "id": "ZslZEyi7t0yo"
      },
      "outputs": [],
      "source": [
        "@guppy\n",
        "def main() -> None:\n",
        "    q = qubit()\n",
        "    rng = RNG(comptime(INIT_SEED) + get_current_shot())\n",
        "    # random_int_bounded upper bound is exclusive,\n",
        "    # chooses a number in {0, 1, 2}\n",
        "    randval = rng.random_int_bounded(3)\n",
        "    rng.discard()\n",
        "    pauli_identity(q, randval)\n",
        "    result(\"rng\", randval)\n",
        "    result(\"c\", measure(q))"
      ]
    },
    {
      "cell_type": "code",
      "execution_count": 10,
      "metadata": {
        "colab": {
          "base_uri": "https://localhost:8080/"
        },
        "id": "lU1_tGXbt0yo",
        "outputId": "d8a4a3c9-d99e-4a7c-c04f-8aea2a2a0705"
      },
      "outputs": [
        {
          "output_type": "execute_result",
          "data": {
            "text/plain": [
              "0.9733333333333334"
            ]
          },
          "metadata": {},
          "execution_count": 10
        }
      ],
      "source": [
        "run(main)"
      ]
    }
  ],
  "metadata": {
    "kernelspec": {
      "display_name": "venv",
      "language": "python",
      "name": "python3"
    },
    "language_info": {
      "codemirror_mode": {
        "name": "ipython",
        "version": 3
      },
      "file_extension": ".py",
      "mimetype": "text/x-python",
      "name": "python",
      "nbconvert_exporter": "python",
      "pygments_lexer": "ipython3",
      "version": "3.11.2"
    },
    "colab": {
      "provenance": [],
      "include_colab_link": true
    }
  },
  "nbformat": 4,
  "nbformat_minor": 0
}